{
 "cells": [
  {
   "cell_type": "code",
   "execution_count": 2,
   "metadata": {},
   "outputs": [
    {
     "name": "stdout",
     "output_type": "stream",
     "text": [
      "[<class 'aind_data_schema.data_description.DataDescription'>, <class 'aind_data_schema.procedures.Procedures'>, <class 'aind_data_schema.ephys.ephys_rig.EphysRig'>, <class 'aind_data_schema.ephys.ephys_session.EphysSession'>, <class 'aind_data_schema.subject.Subject'>, <class 'aind_data_schema.processing.Processing'>, <class 'aind_data_schema.imaging.acquisition.Acquisition'>, <class 'aind_data_schema.imaging.instrument.Instrument'>, <class 'aind_data_schema.ophys.ophys_rig.OphysRig'>, <class 'aind_data_schema.ophys.ophys_session.OphysSession'>, <class 'aind_data_schema.behavior.behavior_rig.BehaviorRig'>, <class 'aind_data_schema.behavior.behavior_session.BehaviorSession'>, <class 'aind_data_schema.ophys.ophys_session.OphysSession'>, <class 'aind_data_schema.ophys.ophys_rig.OphysRig'>, <class 'aind_data_schema.imaging.mri_session.MriSession'>]\n",
      "classes: [<class 'aind_data_schema.behavior.behavior_rig.BehaviorRig'>]\n",
      "[<class 'aind_data_schema.data_description.DataDescription'>, <class 'aind_data_schema.procedures.Procedures'>, <class 'aind_data_schema.ephys.ephys_rig.EphysRig'>, <class 'aind_data_schema.ephys.ephys_session.EphysSession'>, <class 'aind_data_schema.subject.Subject'>, <class 'aind_data_schema.processing.Processing'>, <class 'aind_data_schema.imaging.acquisition.Acquisition'>, <class 'aind_data_schema.imaging.instrument.Instrument'>, <class 'aind_data_schema.ophys.ophys_rig.OphysRig'>, <class 'aind_data_schema.ophys.ophys_session.OphysSession'>, <class 'aind_data_schema.behavior.behavior_rig.BehaviorRig'>, <class 'aind_data_schema.behavior.behavior_session.BehaviorSession'>, <class 'aind_data_schema.ophys.ophys_session.OphysSession'>, <class 'aind_data_schema.ophys.ophys_rig.OphysRig'>, <class 'aind_data_schema.imaging.mri_session.MriSession'>]\n"
     ]
    }
   ],
   "source": [
    "from aind_data_schema.utils.erd_diagram_generator_v2 import ErdDiagramGenerator\n",
    "\n",
    "gen = ErdDiagramGenerator(['BehaviorRig'])\n",
    "gen.generate_requested_classes()"
   ]
  },
  {
   "cell_type": "code",
   "execution_count": null,
   "metadata": {},
   "outputs": [],
   "source": []
  },
  {
   "cell_type": "code",
   "execution_count": null,
   "metadata": {},
   "outputs": [],
   "source": []
  }
 ],
 "metadata": {
  "kernelspec": {
   "display_name": "Python 3",
   "language": "python",
   "name": "python3"
  },
  "language_info": {
   "codemirror_mode": {
    "name": "ipython",
    "version": 3
   },
   "file_extension": ".py",
   "mimetype": "text/x-python",
   "name": "python",
   "nbconvert_exporter": "python",
   "pygments_lexer": "ipython3",
   "version": "3.11.3"
  },
  "orig_nbformat": 4
 },
 "nbformat": 4,
 "nbformat_minor": 2
}
